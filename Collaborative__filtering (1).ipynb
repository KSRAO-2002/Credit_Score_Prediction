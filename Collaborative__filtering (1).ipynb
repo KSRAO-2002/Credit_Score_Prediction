{
  "nbformat": 4,
  "nbformat_minor": 0,
  "metadata": {
    "colab": {
      "provenance": []
    },
    "kernelspec": {
      "name": "python3",
      "display_name": "Python 3"
    },
    "language_info": {
      "name": "python"
    }
  },
  "cells": [
    {
      "cell_type": "code",
      "source": [
        "import numpy as np # linear algebra\n",
        "import pandas as pd # data processing, CSV file\n",
        "from sklearn.metrics.pairwise import cosine_similarity"
      ],
      "metadata": {
        "id": "WonwKfJ8tryQ"
      },
      "execution_count": 1,
      "outputs": []
    },
    {
      "cell_type": "code",
      "source": [
        "# Connecting to drive\n",
        "from google.colab import drive\n",
        "drive.mount('/content/drive')"
      ],
      "metadata": {
        "colab": {
          "base_uri": "https://localhost:8080/"
        },
        "id": "bC3hyS18twTU",
        "outputId": "65404744-8041-46a5-ce50-686fbf117a9f"
      },
      "execution_count": 2,
      "outputs": [
        {
          "output_type": "stream",
          "name": "stdout",
          "text": [
            "Mounted at /content/drive\n"
          ]
        }
      ]
    },
    {
      "cell_type": "code",
      "source": [
        "#Relevant columns for collaborative filtering\n",
        "selected_columns = [\n",
        "    \"Age\", \"Annual_Income\", \"Num_Credit_Card\", \"Interest_Rate\",\n",
        "    # need to add more guys pls check which all columns are imp..\n",
        "]\n"
      ],
      "metadata": {
        "id": "2CCHqW_Ftyp0"
      },
      "execution_count": 3,
      "outputs": []
    },
    {
      "cell_type": "code",
      "source": [
        "# Load your dataset into a DataFrame\n",
        "df_origin_train = pd.read_csv('/content/drive/MyDrive/Capstone/train-Copy(3).csv')\n",
        "df_train = df_origin_train.copy()"
      ],
      "metadata": {
        "id": "iaHrGfTOt7Ef"
      },
      "execution_count": 4,
      "outputs": []
    },
    {
      "cell_type": "code",
      "source": [
        "# Extract selected columns from the DataFrame\n",
        "user_data = df_train[selected_columns].values"
      ],
      "metadata": {
        "id": "YFk7tkVvuELP"
      },
      "execution_count": 5,
      "outputs": []
    },
    {
      "cell_type": "code",
      "source": [
        "#Relevant columns for collaborative filtering\n",
        "selected_columns = [\n",
        "    \"Age\", \"Annual_Income\", \"Num_Credit_Card\", \"Interest_Rate\",\n",
        "    # need to add more guys pls check which all columns are imp..\n",
        "]\n",
        "# Extract selected columns from the DataFrame\n",
        "user_data = df_train[selected_columns].values\n",
        "# Assuming user_data is your original user-data matrix\n",
        "#total_users = user_data.shape[0]\n",
        "sample_size = 10000  # Adjust this based on your available resources\n",
        "if len(user_data) > sample_size:\n",
        "    sample_indices = np.random.choice(len(user_data), size=sample_size, replace=False)\n",
        "    user_data_sample = user_data[sample_indices]\n",
        "else:\n",
        "    user_data_sample = user_data\n",
        "# Randomly select users for the sample\n",
        "# Calculate cosine similarity between users\n",
        "user_similarity = cosine_similarity(user_data_sample)\n",
        "# Get user input for the target user's behavior data\n",
        "target_user_data = []\n",
        "for column in selected_columns:\n",
        "    value = input(f\"Enter {column}: \")\n",
        "    target_user_data.append(float(value))\n",
        "# Convert target user input to a NumPy array\n",
        "target_user_data = np.array(target_user_data)\n",
        "# Choose a user for whom you want to suggest credit score improvements\n",
        "target_user_index = -1  # Initialize with a placeholder value\n",
        "# Find the index of the most similar user in the dataset based on input\n",
        "if len(user_data_sample) > 0:\n",
        "    target_user_similarity = cosine_similarity([target_user_data], user_data_sample)\n",
        "    target_user_index = np.argmax(target_user_similarity)\n",
        "else:\n",
        "    print(\"No users in the dataset.\")\n",
        "# Find most similar users\n",
        "if target_user_index != -1:\n",
        "    similar_users_sample = np.argsort(user_similarity[target_user_index])[::-1]\n",
        "    similar_users_sample = similar_users_sample[similar_users_sample != target_user_index]  # Exclude the target user\n",
        "# Define credit score improvement suggestions based on similar users' behaviors\n",
        "\n",
        "# Define credit score improvement suggestions based on similar users' behaviors\n",
        "suggestions = {\n",
        "    \"Increase payments on time\": [0, 1, 3],\n",
        "    \"Reduce credit card balances\": [2],\n",
        "    # Add more suggestions based on your domain knowledge\n",
        "}\n",
        "\n",
        "# Define a function to check if a suggestion is relevant for the customer\n",
        "def is_relevant_suggestion(user_average, similar_users_average, threshold):\n",
        "    return user_average < threshold * np.mean(similar_users_average)\n",
        "\n",
        "# Print credit score improvement suggestions for each customer\n",
        "for suggestion, feature_indices in suggestions.items():\n",
        "    user_average = np.mean(target_user_data[feature_indices])\n",
        "    similar_users_average = np.mean(user_data_sample[similar_users_sample, :][:, feature_indices], axis=1)\n",
        "\n",
        "    # Define a threshold for each suggestion (customize as needed)\n",
        "    if is_relevant_suggestion(user_average, similar_users_average, threshold=0.8):\n",
        "        print(f\"Close to user : {target_user_index}, Suggestion: {suggestion}\")"
      ],
      "metadata": {
        "colab": {
          "base_uri": "https://localhost:8080/"
        },
        "id": "FWAOImdouGdF",
        "outputId": "d0e7b889-5188-4ce8-89fd-bbcb4d9fb393"
      },
      "execution_count": 6,
      "outputs": [
        {
          "output_type": "stream",
          "name": "stdout",
          "text": [
            "Enter Age: 25\n",
            "Enter Annual_Income: 10000\n",
            "Enter Num_Credit_Card: 6\n",
            "Enter Interest_Rate: 25\n",
            "Close to user : 5513, Suggestion: Increase payments on time\n"
          ]
        }
      ]
    },
    {
      "cell_type": "markdown",
      "source": [
        "THE BELOW CODE IS MORE CONVERSATIONAL LIKE (CHATBOT)"
      ],
      "metadata": {
        "id": "4Nm2pvIzKrx0"
      }
    },
    {
      "cell_type": "code",
      "source": [
        "import numpy as np\n",
        "from sklearn.metrics.pairwise import cosine_similarity\n",
        "# Relevant columns for collaborative filtering\n",
        "selected_columns = [\n",
        "    \"Age\", \"Annual_Income\", \"Num_Credit_Card\", \"Interest_Rate\",\n",
        "    # Add more relevant columns here\n",
        "]\n",
        "\n",
        "# Read your dataset (replace with your file path)\n",
        "# ... (code to read and preprocess the dataset)\n",
        "\n",
        "# Assuming user_data is your original user-data matrix\n",
        "sample_size = 20000  # Adjust this based on your available resources\n",
        "if len(user_data) > sample_size:\n",
        "    sample_indices = np.random.choice(len(user_data), size=sample_size, replace=False)\n",
        "    user_data_sample = user_data[sample_indices]\n",
        "else:\n",
        "    user_data_sample = user_data\n",
        "\n",
        "# Calculate cosine similarity between users\n",
        "user_similarity = cosine_similarity(user_data_sample)\n",
        "\n",
        "# Define credit score improvement suggestions based on similar users' behaviors\n",
        "suggestions = {\n",
        "    \"Increase payments on time\": [0, 1, 3],\n",
        "    \"Reduce credit card balances\": [2]\n",
        "    #Add more suggestions need to see the important columns and change the index too\n",
        "    #\"Increase payments on time\": [10, 11, 15],\n",
        "    #\"Diversify credit mix\": [18],\n",
        "    #\"Reduce outstanding debt\": [19],\n",
        "    #\"Lower credit utilization ratio\": [20],\n",
        "    #\"Reduce credit inquiries\": [18],\n",
        "    #\"Maintain low balance-to-limit ratio\": [20],\n",
        "}\n",
        "\n",
        "# Define a function to check if a suggestion is relevant for the customer\n",
        "def is_relevant_suggestion(user_average, similar_users_average, threshold):\n",
        "    return user_average < threshold * np.mean(similar_users_average)\n",
        "\n",
        "# Start the chatbot loop\n",
        "print(\"Welcome to the Credit Score Improvement Chatbot!\")\n",
        "print(\"I'm here to help you improve your credit score.\")\n",
        "print(\"To get started, please provide some information.\")\n",
        "\n",
        "while True:\n",
        "    # Get user input for each selected column\n",
        "    user_input_data = []\n",
        "    for column in selected_columns:\n",
        "        value = input(f\"Please enter your {column}: \")\n",
        "        user_input_data.append(float(value))\n",
        "\n",
        "    # Convert user input to a NumPy array\n",
        "    target_user_data = np.array(user_input_data)\n",
        "\n",
        "    # Find most similar users\n",
        "    target_user_similarity = cosine_similarity([target_user_data], user_data_sample)\n",
        "    target_user_index = np.argmax(target_user_similarity)\n",
        "    similar_users_sample = np.argsort(user_similarity[target_user_index])[::-1]\n",
        "    similar_users_sample = similar_users_sample[similar_users_sample != target_user_index]  # Exclude the target user\n",
        "\n",
        "    # Print credit score improvement suggestions for the user\n",
        "    print(\"Credit Score Improvement Suggestions:\")\n",
        "    relevant_suggestions = []\n",
        "    for suggestion, feature_indices in suggestions.items():\n",
        "        user_average = np.mean(target_user_data[feature_indices])\n",
        "        similar_users_average = np.mean(user_data_sample[similar_users_sample, :][:, feature_indices], axis=1)\n",
        "\n",
        "        # Define a threshold for each suggestion (customize as needed)\n",
        "        if is_relevant_suggestion(user_average, similar_users_average, threshold=0.8):\n",
        "            relevant_suggestions.append(suggestion)\n",
        "\n",
        "    if relevant_suggestions:\n",
        "        for suggestion in relevant_suggestions:\n",
        "            print(f\"Sugesstions for you : {suggestion}\")\n",
        "    else:\n",
        "        print(\"No relevant suggestions at the moment.\")\n",
        "\n",
        "    # Ask if the user wants to continue\n",
        "    cont = input(\"Do you want to get more suggestions? (yes/no): \")\n",
        "    if cont.lower() != 'yes':\n",
        "        print(\"Thank you for using the Credit Score Improvement Chatbot!\")\n",
        "        break\n"
      ],
      "metadata": {
        "colab": {
          "base_uri": "https://localhost:8080/"
        },
        "id": "Y1HxRFwI8ShW",
        "outputId": "a926cd10-e264-4d29-8685-3cab660e3d6e"
      },
      "execution_count": 9,
      "outputs": [
        {
          "output_type": "stream",
          "name": "stdout",
          "text": [
            "Welcome to the Credit Score Improvement Chatbot!\n",
            "I'm here to help you improve your credit score.\n",
            "To get started, please provide some information.\n",
            "Please enter your Age: 25\n",
            "Please enter your Annual_Income: 10000\n",
            "Please enter your Num_Credit_Card: 6\n",
            "Please enter your Interest_Rate: 25\n",
            "Credit Score Improvement Suggestions:\n",
            "Sugesstions for you : Increase payments on time\n",
            "Do you want to get more suggestions? (yes/no): no\n",
            "Thank you for using the Credit Score Improvement Chatbot!\n"
          ]
        }
      ]
    },
    {
      "cell_type": "code",
      "source": [
        "import numpy as np\n",
        "import pandas as pd\n",
        "from sklearn.metrics.pairwise import cosine_similarity\n",
        "\n",
        "# Define the relevant columns for collaborative filtering\n",
        "selected_columns = [\n",
        "    \"Age\", \"Annual_Income\", \"Num_Credit_Card\", \"Interest_Rate\",\n",
        "    \"Num_of_Loan\", \"Num_Credit_Inquiries\", \"Credit_Mix\",\n",
        "    \"Outstanding_Debt\",\n",
        "]\n",
        "\n",
        "# Read and preprocess your dataset\n",
        "def read_and_preprocess_dataset(file_path):\n",
        "    df_train = pd.read_csv(file_path)\n",
        "    user_data_sample = df_train[selected_columns].values\n",
        "    # Apply any necessary preprocessing steps to user_data_sample if needed\n",
        "    return user_data_sample\n",
        "\n",
        "# Calculate cosine similarity between users\n",
        "def calculate_user_similarity(user_data_sample):\n",
        "    return cosine_similarity(user_data_sample)\n",
        "\n",
        "# Define credit score improvement suggestions based on similar users' behaviors\n",
        "def generate_credit_score_suggestions(target_user_data, similar_users_sample):\n",
        "    suggestions = {\n",
        "        \"Increase payments on time\": [0, 1, 3],\n",
        "        \"Reduce credit card balances\": [2],\n",
        "        \"Diversify your credit mix\": [4, 5],\n",
        "        \"Limit new credit inquiries\": [6],\n",
        "        \"Manage outstanding debt\": [7],\n",
        "        # Add more suggestions based on columns and behavior analysis\n",
        "    }\n",
        "\n",
        "    relevant_suggestions = []\n",
        "\n",
        "    # Analyze user data and similar users' behaviors\n",
        "    age = target_user_data[0, 0]\n",
        "    outstanding_debt = target_user_data[0, 7]\n",
        "\n",
        "    similar_users_age = similar_users_sample[:, 0]\n",
        "    similar_users_outstanding_debt = similar_users_sample[:, 7]\n",
        "\n",
        "    if age < np.mean(similar_users_age) * age_threshold:\n",
        "        relevant_suggestions.extend(suggestions[\"Diversify your credit mix\"])\n",
        "    if outstanding_debt > np.mean(similar_users_outstanding_debt) * outstanding_debt_threshold:\n",
        "        relevant_suggestions.extend(suggestions[\"Manage outstanding debt\"])\n",
        "\n",
        "    return relevant_suggestions\n",
        "\n",
        "# Start the chatbot loop\n",
        "print(\"Welcome to the Credit Score Improvement Chatbot!\")\n",
        "print(\"I'm here to help you enhance your credit score.\")\n",
        "print(\"Let's work together to improve your financial standing. Please provide some information.\")\n",
        "\n",
        "while True:\n",
        "    # Get user input for each selected column\n",
        "    user_input_data = []\n",
        "    for column in selected_columns:\n",
        "        value = input(f\"What is your {column.lower()}? \")\n",
        "        user_input_data.append((value))\n",
        "\n",
        "    # Convert user input to a NumPy array\n",
        "    target_user_data = np.array(user_input_data).reshape(1, -1)\n",
        "\n",
        "    # Read and preprocess your dataset\n",
        "    user_data_sample = read_and_preprocess_dataset('/content/drive/MyDrive/Capstone/train-Copy(3).csv')\n",
        "\n",
        "    # Calculate user similarity\n",
        "    user_similarity = calculate_user_similarity(user_data_sample)\n",
        "\n",
        "    # Find most similar users\n",
        "    target_user_similarity = user_similarity[-1]\n",
        "    similar_users_sample = np.argsort(target_user_similarity)[::-1][1:]  # Exclude the target user\n",
        "\n",
        "    # Generate credit score improvement suggestions\n",
        "    suggestions = generate_credit_score_suggestions(target_user_data, user_data_sample[similar_users_sample])\n",
        "\n",
        "    # Print credit score improvement suggestions for the user\n",
        "    if suggestions:\n",
        "        print(\"\\nHere are some personalized suggestions to enhance your credit score:\")\n",
        "        for i, suggestion in enumerate(suggestions, start=1):\n",
        "            print(f\"{i}. {suggestion}\")\n",
        "            if suggestion == \"Increase payments on time\":\n",
        "                print(\"    Paying your bills on time is a critical factor in building a strong credit history. Consistently making payments by their due dates showcases your financial responsibility and helps boost your credit score over time.\")\n",
        "            elif suggestion == \"Reduce credit card balances\":\n",
        "                print(\"    High credit card balances relative to your credit limit can negatively impact your credit score. Aim to pay down your balances to lower your credit utilization ratio, which demonstrates better credit management and can improve your score.\")\n",
        "            elif suggestion == \"Diversify your credit mix\":\n",
        "                print(\"    Having a mix of different types of credit, such as credit cards and loans, can have a positive effect on your credit score. Consider diversifying your credit portfolio over time to showcase your ability to manage various financial responsibilities.\")\n",
        "            elif suggestion == \"Limit new credit inquiries\":\n",
        "                print(\"    Multiple credit inquiries within a short period may signal to lenders that you're seeking credit frequently, potentially affecting your creditworthiness. Minimize new credit applications to maintain a positive credit profile.\")\n",
        "            elif suggestion == \"Manage outstanding debt\":\n",
        "                print(\"    Reducing your outstanding debt demonstrates your commitment to managing your financial obligations. Focus on paying down existing loans and debts to improve your credit score and overall financial health.\")\n",
        "            # Add more detailed suggestions based on columns\n",
        "\n",
        "    # Ask if the user wants to continue\n",
        "    cont = input(\"\\nWould you like more suggestions? (yes/no): \")\n",
        "    if cont.lower() != 'yes':\n",
        "        print(\"\\nThank you for using the Credit Score Improvement Chatbot! Take care.\")\n",
        "        break\n"
      ],
      "metadata": {
        "id": "Fh8JFdKZDMK1",
        "colab": {
          "base_uri": "https://localhost:8080/",
          "height": 606
        },
        "outputId": "f11aa762-e496-4c76-bdca-7d3bc7cba9ce"
      },
      "execution_count": 13,
      "outputs": [
        {
          "name": "stdout",
          "output_type": "stream",
          "text": [
            "Welcome to the Credit Score Improvement Chatbot!\n",
            "I'm here to help you enhance your credit score.\n",
            "Let's work together to improve your financial standing. Please provide some information.\n",
            "What is your age? 25\n",
            "What is your annual_income? 50000\n",
            "What is your num_credit_card? 3\n",
            "What is your interest_rate? 10\n",
            "What is your num_of_loan? 20\n",
            "What is your num_credit_inquiries? 15\n",
            "What is your credit_mix? Good\n",
            "What is your outstanding_debt? 500\n"
          ]
        },
        {
          "output_type": "error",
          "ename": "ValueError",
          "evalue": "ignored",
          "traceback": [
            "\u001b[0;31m---------------------------------------------------------------------------\u001b[0m",
            "\u001b[0;31mValueError\u001b[0m                                Traceback (most recent call last)",
            "\u001b[0;32m<ipython-input-13-c7b156dd904a>\u001b[0m in \u001b[0;36m<cell line: 55>\u001b[0;34m()\u001b[0m\n\u001b[1;32m     67\u001b[0m \u001b[0;34m\u001b[0m\u001b[0m\n\u001b[1;32m     68\u001b[0m     \u001b[0;31m# Calculate user similarity\u001b[0m\u001b[0;34m\u001b[0m\u001b[0;34m\u001b[0m\u001b[0m\n\u001b[0;32m---> 69\u001b[0;31m     \u001b[0muser_similarity\u001b[0m \u001b[0;34m=\u001b[0m \u001b[0mcalculate_user_similarity\u001b[0m\u001b[0;34m(\u001b[0m\u001b[0muser_data_sample\u001b[0m\u001b[0;34m)\u001b[0m\u001b[0;34m\u001b[0m\u001b[0;34m\u001b[0m\u001b[0m\n\u001b[0m\u001b[1;32m     70\u001b[0m \u001b[0;34m\u001b[0m\u001b[0m\n\u001b[1;32m     71\u001b[0m     \u001b[0;31m# Find most similar users\u001b[0m\u001b[0;34m\u001b[0m\u001b[0;34m\u001b[0m\u001b[0m\n",
            "\u001b[0;32m<ipython-input-13-c7b156dd904a>\u001b[0m in \u001b[0;36mcalculate_user_similarity\u001b[0;34m(user_data_sample)\u001b[0m\n\u001b[1;32m     19\u001b[0m \u001b[0;31m# Calculate cosine similarity between users\u001b[0m\u001b[0;34m\u001b[0m\u001b[0;34m\u001b[0m\u001b[0m\n\u001b[1;32m     20\u001b[0m \u001b[0;32mdef\u001b[0m \u001b[0mcalculate_user_similarity\u001b[0m\u001b[0;34m(\u001b[0m\u001b[0muser_data_sample\u001b[0m\u001b[0;34m)\u001b[0m\u001b[0;34m:\u001b[0m\u001b[0;34m\u001b[0m\u001b[0;34m\u001b[0m\u001b[0m\n\u001b[0;32m---> 21\u001b[0;31m     \u001b[0;32mreturn\u001b[0m \u001b[0mcosine_similarity\u001b[0m\u001b[0;34m(\u001b[0m\u001b[0muser_data_sample\u001b[0m\u001b[0;34m)\u001b[0m\u001b[0;34m\u001b[0m\u001b[0;34m\u001b[0m\u001b[0m\n\u001b[0m\u001b[1;32m     22\u001b[0m \u001b[0;34m\u001b[0m\u001b[0m\n\u001b[1;32m     23\u001b[0m \u001b[0;31m# Define credit score improvement suggestions based on similar users' behaviors\u001b[0m\u001b[0;34m\u001b[0m\u001b[0;34m\u001b[0m\u001b[0m\n",
            "\u001b[0;32m/usr/local/lib/python3.10/dist-packages/sklearn/metrics/pairwise.py\u001b[0m in \u001b[0;36mcosine_similarity\u001b[0;34m(X, Y, dense_output)\u001b[0m\n\u001b[1;32m   1391\u001b[0m     \u001b[0;31m# to avoid recursive import\u001b[0m\u001b[0;34m\u001b[0m\u001b[0;34m\u001b[0m\u001b[0m\n\u001b[1;32m   1392\u001b[0m \u001b[0;34m\u001b[0m\u001b[0m\n\u001b[0;32m-> 1393\u001b[0;31m     \u001b[0mX\u001b[0m\u001b[0;34m,\u001b[0m \u001b[0mY\u001b[0m \u001b[0;34m=\u001b[0m \u001b[0mcheck_pairwise_arrays\u001b[0m\u001b[0;34m(\u001b[0m\u001b[0mX\u001b[0m\u001b[0;34m,\u001b[0m \u001b[0mY\u001b[0m\u001b[0;34m)\u001b[0m\u001b[0;34m\u001b[0m\u001b[0;34m\u001b[0m\u001b[0m\n\u001b[0m\u001b[1;32m   1394\u001b[0m \u001b[0;34m\u001b[0m\u001b[0m\n\u001b[1;32m   1395\u001b[0m     \u001b[0mX_normalized\u001b[0m \u001b[0;34m=\u001b[0m \u001b[0mnormalize\u001b[0m\u001b[0;34m(\u001b[0m\u001b[0mX\u001b[0m\u001b[0;34m,\u001b[0m \u001b[0mcopy\u001b[0m\u001b[0;34m=\u001b[0m\u001b[0;32mTrue\u001b[0m\u001b[0;34m)\u001b[0m\u001b[0;34m\u001b[0m\u001b[0;34m\u001b[0m\u001b[0m\n",
            "\u001b[0;32m/usr/local/lib/python3.10/dist-packages/sklearn/metrics/pairwise.py\u001b[0m in \u001b[0;36mcheck_pairwise_arrays\u001b[0;34m(X, Y, precomputed, dtype, accept_sparse, force_all_finite, copy)\u001b[0m\n\u001b[1;32m    144\u001b[0m \u001b[0;34m\u001b[0m\u001b[0m\n\u001b[1;32m    145\u001b[0m     \u001b[0;32mif\u001b[0m \u001b[0mY\u001b[0m \u001b[0;32mis\u001b[0m \u001b[0mX\u001b[0m \u001b[0;32mor\u001b[0m \u001b[0mY\u001b[0m \u001b[0;32mis\u001b[0m \u001b[0;32mNone\u001b[0m\u001b[0;34m:\u001b[0m\u001b[0;34m\u001b[0m\u001b[0;34m\u001b[0m\u001b[0m\n\u001b[0;32m--> 146\u001b[0;31m         X = Y = check_array(\n\u001b[0m\u001b[1;32m    147\u001b[0m             \u001b[0mX\u001b[0m\u001b[0;34m,\u001b[0m\u001b[0;34m\u001b[0m\u001b[0;34m\u001b[0m\u001b[0m\n\u001b[1;32m    148\u001b[0m             \u001b[0maccept_sparse\u001b[0m\u001b[0;34m=\u001b[0m\u001b[0maccept_sparse\u001b[0m\u001b[0;34m,\u001b[0m\u001b[0;34m\u001b[0m\u001b[0;34m\u001b[0m\u001b[0m\n",
            "\u001b[0;32m/usr/local/lib/python3.10/dist-packages/sklearn/utils/validation.py\u001b[0m in \u001b[0;36mcheck_array\u001b[0;34m(array, accept_sparse, accept_large_sparse, dtype, order, copy, force_all_finite, ensure_2d, allow_nd, ensure_min_samples, ensure_min_features, estimator, input_name)\u001b[0m\n\u001b[1;32m    877\u001b[0m                     \u001b[0marray\u001b[0m \u001b[0;34m=\u001b[0m \u001b[0mxp\u001b[0m\u001b[0;34m.\u001b[0m\u001b[0mastype\u001b[0m\u001b[0;34m(\u001b[0m\u001b[0marray\u001b[0m\u001b[0;34m,\u001b[0m \u001b[0mdtype\u001b[0m\u001b[0;34m,\u001b[0m \u001b[0mcopy\u001b[0m\u001b[0;34m=\u001b[0m\u001b[0;32mFalse\u001b[0m\u001b[0;34m)\u001b[0m\u001b[0;34m\u001b[0m\u001b[0;34m\u001b[0m\u001b[0m\n\u001b[1;32m    878\u001b[0m                 \u001b[0;32melse\u001b[0m\u001b[0;34m:\u001b[0m\u001b[0;34m\u001b[0m\u001b[0;34m\u001b[0m\u001b[0m\n\u001b[0;32m--> 879\u001b[0;31m                     \u001b[0marray\u001b[0m \u001b[0;34m=\u001b[0m \u001b[0m_asarray_with_order\u001b[0m\u001b[0;34m(\u001b[0m\u001b[0marray\u001b[0m\u001b[0;34m,\u001b[0m \u001b[0morder\u001b[0m\u001b[0;34m=\u001b[0m\u001b[0morder\u001b[0m\u001b[0;34m,\u001b[0m \u001b[0mdtype\u001b[0m\u001b[0;34m=\u001b[0m\u001b[0mdtype\u001b[0m\u001b[0;34m,\u001b[0m \u001b[0mxp\u001b[0m\u001b[0;34m=\u001b[0m\u001b[0mxp\u001b[0m\u001b[0;34m)\u001b[0m\u001b[0;34m\u001b[0m\u001b[0;34m\u001b[0m\u001b[0m\n\u001b[0m\u001b[1;32m    880\u001b[0m             \u001b[0;32mexcept\u001b[0m \u001b[0mComplexWarning\u001b[0m \u001b[0;32mas\u001b[0m \u001b[0mcomplex_warning\u001b[0m\u001b[0;34m:\u001b[0m\u001b[0;34m\u001b[0m\u001b[0;34m\u001b[0m\u001b[0m\n\u001b[1;32m    881\u001b[0m                 raise ValueError(\n",
            "\u001b[0;32m/usr/local/lib/python3.10/dist-packages/sklearn/utils/_array_api.py\u001b[0m in \u001b[0;36m_asarray_with_order\u001b[0;34m(array, dtype, order, copy, xp)\u001b[0m\n\u001b[1;32m    183\u001b[0m     \u001b[0;32mif\u001b[0m \u001b[0mxp\u001b[0m\u001b[0;34m.\u001b[0m\u001b[0m__name__\u001b[0m \u001b[0;32min\u001b[0m \u001b[0;34m{\u001b[0m\u001b[0;34m\"numpy\"\u001b[0m\u001b[0;34m,\u001b[0m \u001b[0;34m\"numpy.array_api\"\u001b[0m\u001b[0;34m}\u001b[0m\u001b[0;34m:\u001b[0m\u001b[0;34m\u001b[0m\u001b[0;34m\u001b[0m\u001b[0m\n\u001b[1;32m    184\u001b[0m         \u001b[0;31m# Use NumPy API to support order\u001b[0m\u001b[0;34m\u001b[0m\u001b[0;34m\u001b[0m\u001b[0m\n\u001b[0;32m--> 185\u001b[0;31m         \u001b[0marray\u001b[0m \u001b[0;34m=\u001b[0m \u001b[0mnumpy\u001b[0m\u001b[0;34m.\u001b[0m\u001b[0masarray\u001b[0m\u001b[0;34m(\u001b[0m\u001b[0marray\u001b[0m\u001b[0;34m,\u001b[0m \u001b[0morder\u001b[0m\u001b[0;34m=\u001b[0m\u001b[0morder\u001b[0m\u001b[0;34m,\u001b[0m \u001b[0mdtype\u001b[0m\u001b[0;34m=\u001b[0m\u001b[0mdtype\u001b[0m\u001b[0;34m)\u001b[0m\u001b[0;34m\u001b[0m\u001b[0;34m\u001b[0m\u001b[0m\n\u001b[0m\u001b[1;32m    186\u001b[0m         \u001b[0;32mreturn\u001b[0m \u001b[0mxp\u001b[0m\u001b[0;34m.\u001b[0m\u001b[0masarray\u001b[0m\u001b[0;34m(\u001b[0m\u001b[0marray\u001b[0m\u001b[0;34m,\u001b[0m \u001b[0mcopy\u001b[0m\u001b[0;34m=\u001b[0m\u001b[0mcopy\u001b[0m\u001b[0;34m)\u001b[0m\u001b[0;34m\u001b[0m\u001b[0;34m\u001b[0m\u001b[0m\n\u001b[1;32m    187\u001b[0m     \u001b[0;32melse\u001b[0m\u001b[0;34m:\u001b[0m\u001b[0;34m\u001b[0m\u001b[0;34m\u001b[0m\u001b[0m\n",
            "\u001b[0;31mValueError\u001b[0m: could not convert string to float: 'Good'"
          ]
        }
      ]
    },
    {
      "cell_type": "code",
      "source": [],
      "metadata": {
        "id": "qgafZjUVDUGU"
      },
      "execution_count": null,
      "outputs": []
    }
  ]
}
